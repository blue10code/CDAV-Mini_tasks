{
  "nbformat": 4,
  "nbformat_minor": 0,
  "metadata": {
    "colab": {
      "provenance": []
    },
    "kernelspec": {
      "name": "python3",
      "display_name": "Python 3"
    },
    "language_info": {
      "name": "python"
    }
  },
  "cells": [
    {
      "cell_type": "code",
      "execution_count": null,
      "metadata": {
        "colab": {
          "base_uri": "https://localhost:8080/"
        },
        "id": "Z0o-zQVQJDlB",
        "outputId": "c4f742f9-623e-4386-fb90-cfe18bc84536"
      },
      "outputs": [
        {
          "output_type": "stream",
          "name": "stdout",
          "text": [
            "1\n",
            "2\n",
            "3\n",
            "4\n",
            "5\n",
            "6\n",
            "7\n",
            "8\n",
            "9\n",
            "10\n"
          ]
        }
      ],
      "source": [
        "# 1. Print numbers from 1 to 10\n",
        "# Output:\n",
        "# 1\n",
        "# 2\n",
        "# ...\n",
        "# 10\n",
        "\n",
        "for x in range(1,11):\n",
        "  print(x)"
      ]
    },
    {
      "cell_type": "code",
      "source": [
        "counter = 10\n",
        "while counter > 0:\n",
        "  print(counter)\n",
        "  counter = counter - 1"
      ],
      "metadata": {
        "colab": {
          "base_uri": "https://localhost:8080/"
        },
        "id": "cC1-GKkupCqy",
        "outputId": "3c50fc7a-f1fc-4364-8f75-4bcd55fbd840"
      },
      "execution_count": null,
      "outputs": [
        {
          "output_type": "stream",
          "name": "stdout",
          "text": [
            "10\n",
            "9\n",
            "8\n",
            "7\n",
            "6\n",
            "5\n",
            "4\n",
            "3\n",
            "2\n",
            "1\n"
          ]
        }
      ]
    },
    {
      "cell_type": "code",
      "source": [
        "# 2. Print even numbers between 1 and 20\n",
        "# Output:\n",
        "# 2, 4, 6, ..., 20\n",
        "# 3. Print the square of numbers from 1 to 5\n",
        "# Output:\n",
        "# 1 4 9 16 25\n",
        "\n",
        "for x in range(1,21):\n",
        "  if x %2 == 0:\n",
        "    print(\"Even numbers:\" ,x)\n",
        "\n",
        "for y in range(1,6):\n",
        "  print(\"squares\",y*y)"
      ],
      "metadata": {
        "colab": {
          "base_uri": "https://localhost:8080/"
        },
        "id": "6G1fwjJTJTEO",
        "outputId": "69f229a6-bb12-4b92-b9b1-11ab4c960d68"
      },
      "execution_count": null,
      "outputs": [
        {
          "output_type": "stream",
          "name": "stdout",
          "text": [
            "Even numbers: 2\n",
            "Even numbers: 4\n",
            "Even numbers: 6\n",
            "Even numbers: 8\n",
            "Even numbers: 10\n",
            "Even numbers: 12\n",
            "Even numbers: 14\n",
            "Even numbers: 16\n",
            "Even numbers: 18\n",
            "Even numbers: 20\n",
            "squares 1\n",
            "squares 4\n",
            "squares 9\n",
            "squares 16\n",
            "squares 25\n"
          ]
        }
      ]
    },
    {
      "cell_type": "code",
      "source": [
        "# 4. Print each character in the word \"Python\"\n",
        "# Output:\n",
        "# P\n",
        "# y\n",
        "# t\n",
        "# h\n",
        "# o\n",
        "# n\n",
        "\n",
        "word = \"Python\"\n",
        "for character in word:\n",
        "  print(character)"
      ],
      "metadata": {
        "colab": {
          "base_uri": "https://localhost:8080/"
        },
        "id": "6zw9zPnnJS-f",
        "outputId": "605d61ad-fe67-4aeb-e4eb-9f5c66cda91b"
      },
      "execution_count": null,
      "outputs": [
        {
          "output_type": "stream",
          "name": "stdout",
          "text": [
            "P\n",
            "y\n",
            "t\n",
            "h\n",
            "o\n",
            "n\n"
          ]
        }
      ]
    },
    {
      "cell_type": "code",
      "source": [
        "# 5. Loop through this list and print names:\n",
        "names = [\"Alice\", \"Bob\", \"Charlie\"]\n",
        "\n",
        "for name in names:\n",
        "  print(name)"
      ],
      "metadata": {
        "colab": {
          "base_uri": "https://localhost:8080/"
        },
        "id": "qJ1WutnuJS7l",
        "outputId": "aba603a1-0906-4ddc-cdc6-57edd45b8b3c"
      },
      "execution_count": null,
      "outputs": [
        {
          "output_type": "stream",
          "name": "stdout",
          "text": [
            "Alice\n",
            "Bob\n",
            "Charlie\n"
          ]
        }
      ]
    },
    {
      "cell_type": "code",
      "source": [
        "# 6. Print numbers from 5 to 1\n",
        "# Output:\n",
        "# 5\n",
        "# 4\n",
        "# 3\n",
        "# 2\n",
        "# 1\n",
        "\n",
        "for num in range(5,0,-1):\n",
        "  print(num)"
      ],
      "metadata": {
        "colab": {
          "base_uri": "https://localhost:8080/"
        },
        "id": "b5Y2h5buJS5C",
        "outputId": "29155f3c-9841-4fb8-ab56-6518924fd232"
      },
      "execution_count": null,
      "outputs": [
        {
          "output_type": "stream",
          "name": "stdout",
          "text": [
            "5\n",
            "4\n",
            "3\n",
            "2\n",
            "1\n"
          ]
        }
      ]
    },
    {
      "cell_type": "code",
      "source": [
        "# 7. Keep asking the user to enter a password until they type \"secret\"\n",
        "# Output:\n",
        "# Try again... until correct\n",
        "\n",
        "password = \"secret\"\n",
        "while True:\n",
        "  password = input(\"Enter password: \")\n",
        "  if password == \"secret\":\n",
        "    break"
      ],
      "metadata": {
        "colab": {
          "base_uri": "https://localhost:8080/"
        },
        "id": "pJ7Ac_QdJZ2U",
        "outputId": "4d520310-b83c-4daf-a57d-58f02120ee71"
      },
      "execution_count": null,
      "outputs": [
        {
          "name": "stdout",
          "output_type": "stream",
          "text": [
            "Enter password: how\n",
            "Enter password: egg\n",
            "Enter password: secret\n"
          ]
        }
      ]
    },
    {
      "cell_type": "code",
      "source": [
        "# 8. Ask the user to enter numbers until they enter 0. Then print the sum.\n",
        "# Input:\n",
        "# 5\n",
        "# 3\n",
        "# 0\n",
        "# Output:\n",
        "# Total: 8\n",
        "\n",
        "result = 0\n",
        "while True:\n",
        "  number = int(input(\"Enter number: \"))\n",
        "  if number == 0:\n",
        "    print(result)\n",
        "    break\n",
        "  else:\n",
        "    result = result + number"
      ],
      "metadata": {
        "colab": {
          "base_uri": "https://localhost:8080/"
        },
        "id": "GMk3YWvcJZzb",
        "outputId": "91b3cff7-b82f-4f67-d792-62c94375a326"
      },
      "execution_count": null,
      "outputs": [
        {
          "output_type": "stream",
          "name": "stdout",
          "text": [
            "Enter number: 5\n",
            "Enter number: 3\n",
            "Enter number: 0\n",
            "8\n"
          ]
        }
      ]
    },
    {
      "cell_type": "code",
      "source": [
        "# 9. Print all numbers from 1 to 20 that are divisible by 3\n",
        "# Output:\n",
        "# 3 6 9 12 15 18\n",
        "\n",
        "for value in range(1,21):\n",
        "  if value %3 == 0:\n",
        "    print(value)"
      ],
      "metadata": {
        "colab": {
          "base_uri": "https://localhost:8080/"
        },
        "id": "GYwfAQFIJZw3",
        "outputId": "532e914b-862c-41b8-e0af-85d0cf09f9da"
      },
      "execution_count": null,
      "outputs": [
        {
          "output_type": "stream",
          "name": "stdout",
          "text": [
            "3\n",
            "6\n",
            "9\n",
            "12\n",
            "15\n",
            "18\n"
          ]
        }
      ]
    },
    {
      "cell_type": "code",
      "source": [
        "# 10. From this list, print only the odd numbers:\n",
        "numbers = [4, 7, 10, 13, 16, 19]\n",
        "\n",
        "for num_c in numbers:\n",
        "  if num_c %2 == 1:\n",
        "    print(num_c)"
      ],
      "metadata": {
        "colab": {
          "base_uri": "https://localhost:8080/"
        },
        "id": "HSTcZD74Jl1U",
        "outputId": "719b71ef-7fd5-4f33-9495-01c606e38ec9"
      },
      "execution_count": null,
      "outputs": [
        {
          "output_type": "stream",
          "name": "stdout",
          "text": [
            "7\n",
            "13\n",
            "19\n"
          ]
        }
      ]
    },
    {
      "cell_type": "code",
      "source": [
        "# 11. Count how many times \"apple\" appears in the list:\n",
        "fruits = [\"apple\", \"banana\", \"apple\", \"cherry\", \"apple\"]\n",
        "\n",
        "for fruit in set(fruits):       #set to get unique values\n",
        "  print(fruit,\"appears\",fruits.count(fruit))"
      ],
      "metadata": {
        "colab": {
          "base_uri": "https://localhost:8080/"
        },
        "id": "f1O-HJ6AJlrV",
        "outputId": "3113c8f6-f14f-45c9-da22-2cecc0d62105"
      },
      "execution_count": null,
      "outputs": [
        {
          "output_type": "stream",
          "name": "stdout",
          "text": [
            "apple appears 3\n",
            "cherry appears 1\n",
            "banana appears 1\n"
          ]
        }
      ]
    },
    {
      "cell_type": "code",
      "source": [
        "# 12. Use a loop to reverse a string:\n",
        "# Input:\n",
        "# \"hello\"\n",
        "# Output:\n",
        "# \"olleh\"\n",
        "\n",
        "greeting = \"hello\"\n",
        "for character in greeting[::-1]:\n",
        "  print(character)"
      ],
      "metadata": {
        "colab": {
          "base_uri": "https://localhost:8080/"
        },
        "id": "uBpA9mjJJlog",
        "outputId": "c23703fc-9267-4d9b-c635-717109a2552d"
      },
      "execution_count": null,
      "outputs": [
        {
          "output_type": "stream",
          "name": "stdout",
          "text": [
            "o\n",
            "l\n",
            "l\n",
            "e\n",
            "h\n"
          ]
        }
      ]
    },
    {
      "cell_type": "code",
      "source": [
        "name = \"hello\"\n",
        "counter = len(name)\n",
        "while counter > 0:\n",
        "  print(name[counter-1])\n",
        "  counter = counter - 1"
      ],
      "metadata": {
        "colab": {
          "base_uri": "https://localhost:8080/"
        },
        "id": "Tqv_lZPerGAB",
        "outputId": "943c6d76-9b39-41c3-8972-d07f39a55429"
      },
      "execution_count": null,
      "outputs": [
        {
          "output_type": "stream",
          "name": "stdout",
          "text": [
            "o\n",
            "l\n",
            "l\n",
            "e\n",
            "h\n"
          ]
        }
      ]
    },
    {
      "cell_type": "code",
      "source": [
        "# 13. Print a simple triangle of stars:\n",
        "# Output:\n",
        "# *\n",
        "# **\n",
        "# ***\n",
        "# ****\n",
        "# *****\n",
        "\n",
        "star = \"*\"\n",
        "for triangle_star in range(1,6):\n",
        "  print(triangle_star * star)"
      ],
      "metadata": {
        "colab": {
          "base_uri": "https://localhost:8080/"
        },
        "id": "SlmzZS2SJs_C",
        "outputId": "5b301b59-a2cb-4816-f76f-c9b4d7938252"
      },
      "execution_count": null,
      "outputs": [
        {
          "output_type": "stream",
          "name": "stdout",
          "text": [
            "*\n",
            "**\n",
            "***\n",
            "****\n",
            "*****\n"
          ]
        }
      ]
    },
    {
      "cell_type": "code",
      "source": [
        "counter = 1\n",
        "while counter <= 5:\n",
        "  print(\"*\"*counter)\n",
        "  counter = counter + 1"
      ],
      "metadata": {
        "colab": {
          "base_uri": "https://localhost:8080/"
        },
        "id": "gpa4NsUtrgcu",
        "outputId": "113ca7be-bc44-41e8-94fc-ff145d320762"
      },
      "execution_count": null,
      "outputs": [
        {
          "output_type": "stream",
          "name": "stdout",
          "text": [
            "*\n",
            "**\n",
            "***\n",
            "****\n",
            "*****\n"
          ]
        }
      ]
    },
    {
      "cell_type": "code",
      "source": [
        "# 14. Use a loop to calculate the factorial of a number:\n",
        "# Input:\n",
        "# 5\n",
        "# Output:\n",
        "# 120\n",
        "\n",
        "num = int(input(\"Enter a number: \"))\n",
        "\n",
        "#start with 1 because multiplying by 0 would give 0\n",
        "result = 1\n",
        "\n",
        "# loop from 1 to the number (inclusive)\n",
        "for val in range(1, num + 1):\n",
        "    result = result * val  # Multiply result by the current number\n",
        "print( result)\n"
      ],
      "metadata": {
        "id": "cLZtrF5UJs8N",
        "colab": {
          "base_uri": "https://localhost:8080/"
        },
        "outputId": "8800ee2d-323c-4c2a-c25d-79896f772c55"
      },
      "execution_count": null,
      "outputs": [
        {
          "output_type": "stream",
          "name": "stdout",
          "text": [
            "Enter a number: 5\n",
            "120\n"
          ]
        }
      ]
    },
    {
      "cell_type": "code",
      "source": [
        "# 15. Loop from 1 to 100 and:\n",
        "# Print \"Hit\" if divisible by 3\n",
        "# Print \"Miss\" if divisible by 5\n",
        "# Print \"Jackpot\" if divisible by both\n",
        "\n",
        "for vals in range(1,101):\n",
        "  if vals %3 == 0:\n",
        "    print(vals, \"Hit\")\n",
        "  if vals %5 == 0:\n",
        "    print(vals, \"Miss\")\n",
        "  if (vals %3 == 0) and (vals %5 == 0):\n",
        "    print(vals, \"Jackpot\")"
      ],
      "metadata": {
        "colab": {
          "base_uri": "https://localhost:8080/"
        },
        "id": "aN1s1o4YJs5l",
        "outputId": "83da98ec-cc21-4a45-f87f-126e3ca49faa",
        "collapsed": true
      },
      "execution_count": null,
      "outputs": [
        {
          "output_type": "stream",
          "name": "stdout",
          "text": [
            "3 Hit\n",
            "5 Miss\n",
            "6 Hit\n",
            "9 Hit\n",
            "10 Miss\n",
            "12 Hit\n",
            "15 Hit\n",
            "15 Miss\n",
            "15 Jackpot\n",
            "18 Hit\n",
            "20 Miss\n",
            "21 Hit\n",
            "24 Hit\n",
            "25 Miss\n",
            "27 Hit\n",
            "30 Hit\n",
            "30 Miss\n",
            "30 Jackpot\n",
            "33 Hit\n",
            "35 Miss\n",
            "36 Hit\n",
            "39 Hit\n",
            "40 Miss\n",
            "42 Hit\n",
            "45 Hit\n",
            "45 Miss\n",
            "45 Jackpot\n",
            "48 Hit\n",
            "50 Miss\n",
            "51 Hit\n",
            "54 Hit\n",
            "55 Miss\n",
            "57 Hit\n",
            "60 Hit\n",
            "60 Miss\n",
            "60 Jackpot\n",
            "63 Hit\n",
            "65 Miss\n",
            "66 Hit\n",
            "69 Hit\n",
            "70 Miss\n",
            "72 Hit\n",
            "75 Hit\n",
            "75 Miss\n",
            "75 Jackpot\n",
            "78 Hit\n",
            "80 Miss\n",
            "81 Hit\n",
            "84 Hit\n",
            "85 Miss\n",
            "87 Hit\n",
            "90 Hit\n",
            "90 Miss\n",
            "90 Jackpot\n",
            "93 Hit\n",
            "95 Miss\n",
            "96 Hit\n",
            "99 Hit\n",
            "100 Miss\n"
          ]
        }
      ]
    },
    {
      "cell_type": "code",
      "source": [
        "# 16. Ask the user how many students are in a class. Then loop to enter each student’s name and save them to a list. Finally, print the list of students.\n",
        "\n",
        "no_of_students = int(input(\"How many students are in a class? \"))\n",
        "\n",
        "student_names = []\n",
        "for stu in range(no_of_students):\n",
        "  student = input(\"Enter student name: \")\n",
        "  student_names.append(student)\n",
        "print(student_names)"
      ],
      "metadata": {
        "colab": {
          "base_uri": "https://localhost:8080/"
        },
        "id": "VnNZ2Pi2J17O",
        "outputId": "638aff9d-b88e-40ac-f937-9a36aad6833f"
      },
      "execution_count": null,
      "outputs": [
        {
          "output_type": "stream",
          "name": "stdout",
          "text": [
            "How many students are in a class? 3\n",
            "Enter student name: jane\n",
            "Enter student name: mercy\n",
            "Enter student name: mary\n",
            "['jane', 'mercy', 'mary']\n"
          ]
        }
      ]
    }
  ]
}