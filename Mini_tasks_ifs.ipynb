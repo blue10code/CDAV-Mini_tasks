{
  "nbformat": 4,
  "nbformat_minor": 0,
  "metadata": {
    "colab": {
      "provenance": []
    },
    "kernelspec": {
      "name": "python3",
      "display_name": "Python 3"
    },
    "language_info": {
      "name": "python"
    }
  },
  "cells": [
    {
      "cell_type": "markdown",
      "source": [
        "### practice on how to use if, elif, else / and, or, not"
      ],
      "metadata": {
        "id": "d--sVPX2WkgP"
      }
    },
    {
      "cell_type": "code",
      "execution_count": null,
      "metadata": {
        "id": "_WKe_xuNUsFP",
        "colab": {
          "base_uri": "https://localhost:8080/"
        },
        "outputId": "a6dd4f1e-8107-4253-8ba8-11041e21e179"
      },
      "outputs": [
        {
          "output_type": "stream",
          "name": "stdout",
          "text": [
            "Enter number: 5\n",
            "Positive number\n"
          ]
        }
      ],
      "source": [
        "#1. Write a program that checks if a number is positive.\n",
        "# Input: 5\n",
        "# Output: Positive number\n",
        "\n",
        "num1 = int(input(\"Enter number: \"))\n",
        "if num1 >= 0:\n",
        "  print(\"Positive number\")\n",
        "else:\n",
        "  print(\"Invalid. Negative number\")"
      ]
    },
    {
      "cell_type": "code",
      "source": [
        "#2. Check if a given number is even or odd.\n",
        "# Input: 7\n",
        "# Output: Odd number\n",
        "\n",
        "num2 = int(input(\"Enter number: \"))\n",
        "if num2 %2 == 0:\n",
        "  print(\"Even number\")\n",
        "elif num2 %2 == 1:\n",
        "  print(\"Odd number\")"
      ],
      "metadata": {
        "colab": {
          "base_uri": "https://localhost:8080/"
        },
        "id": "hFYuZhz5XfcB",
        "outputId": "2be4b737-5143-4530-8ad2-d6d0b8256e12"
      },
      "execution_count": null,
      "outputs": [
        {
          "output_type": "stream",
          "name": "stdout",
          "text": [
            "Enter number: 7\n",
            "Odd number\n"
          ]
        }
      ]
    },
    {
      "cell_type": "code",
      "source": [
        "#3.Ask the user for their age. If they are 18 or older, print \"You are an adult.\"\n",
        "\n",
        "age1 = int(input(\"What is your age? \"))\n",
        "if age1 >= 18:\n",
        "  print(\"You are an adult\")\n",
        "else:\n",
        "  print(\"You are under the age 18\")"
      ],
      "metadata": {
        "colab": {
          "base_uri": "https://localhost:8080/"
        },
        "id": "Ub9pYFRsYfYw",
        "outputId": "6d17bc37-91c5-45fe-9089-abb5a20e6b35"
      },
      "execution_count": null,
      "outputs": [
        {
          "output_type": "stream",
          "name": "stdout",
          "text": [
            "What is your age? 18\n",
            "You are an adult\n"
          ]
        }
      ]
    },
    {
      "cell_type": "code",
      "source": [
        "#4. Ask the user to enter a password. If it matches \"secret\", print \"Access granted\"; otherwise, print \"Wrong password\".\n",
        "\n",
        "password1 = str(input(\"What is your password? \"))\n",
        "if password1 == \"secret\":\n",
        "  print(\"Access granted\")\n",
        "else:\n",
        "  print(\"Wrong password\")"
      ],
      "metadata": {
        "colab": {
          "base_uri": "https://localhost:8080/"
        },
        "id": "uF1_wVTucL8r",
        "outputId": "8c3dede7-705b-4b8b-9304-6d0ad26bc822"
      },
      "execution_count": null,
      "outputs": [
        {
          "output_type": "stream",
          "name": "stdout",
          "text": [
            "What is your password? secret\n",
            "Access granted\n"
          ]
        }
      ]
    },
    {
      "cell_type": "code",
      "source": [
        "#5. Ask the user for a number and print whether it is even or odd.\n",
        "\n",
        "num3 = int(input(\"Enter a number: \"))\n",
        "if num3 %2 == 0:\n",
        "  print(\"Even number\")\n",
        "elif num3 %2 == 1:\n",
        "  print (\"Odd number\")\n",
        "else:\n",
        "  print(\"Invalid input\")"
      ],
      "metadata": {
        "colab": {
          "base_uri": "https://localhost:8080/"
        },
        "id": "vcxeFx3HdLwe",
        "outputId": "2b23156e-ec5e-4803-ee0a-dbdaced4d815"
      },
      "execution_count": null,
      "outputs": [
        {
          "output_type": "stream",
          "name": "stdout",
          "text": [
            "Enter a number: 5\n",
            "Odd number\n"
          ]
        }
      ]
    },
    {
      "cell_type": "code",
      "source": [
        "#6. Check whether a number is divisible by 3 given by a user.\n",
        "#If it is, print \"Hit\"; otherwise, print \"Miss\".\n",
        "\n",
        "num4 = int(input(\"Enter a number: \"))\n",
        "if num4 %3 == 0:\n",
        "  print(\"Hit\")\n",
        "elif num4 %3 != 0:\n",
        "  print(\"Miss\")\n",
        "else:\n",
        "  print(\"Invalid input\")"
      ],
      "metadata": {
        "colab": {
          "base_uri": "https://localhost:8080/"
        },
        "id": "yEi4B10KdpWL",
        "outputId": "c116c31d-dc5b-4de3-b198-b3cc5229e77a"
      },
      "execution_count": null,
      "outputs": [
        {
          "output_type": "stream",
          "name": "stdout",
          "text": [
            "Enter a number: 27\n",
            "Hit\n"
          ]
        }
      ]
    },
    {
      "cell_type": "code",
      "source": [
        "#7. Ask the user for a number and print whether it is positive, negative, or zero.\n",
        "\n",
        "num5 = int(input(\"Enter a number: \"))\n",
        "if num5 > 0:\n",
        "  print(\"Positive number\")\n",
        "elif num5 < 0:\n",
        "  print(\"Negative number\")\n",
        "elif num5 == 0:\n",
        "  print(\"Zero\")\n",
        "else:\n",
        "  print(\"Invalid input\")"
      ],
      "metadata": {
        "colab": {
          "base_uri": "https://localhost:8080/"
        },
        "id": "jlzmqp4Aezp4",
        "outputId": "9264fa87-915d-4ddb-ed40-e204813cefa1"
      },
      "execution_count": null,
      "outputs": [
        {
          "output_type": "stream",
          "name": "stdout",
          "text": [
            "Enter a number: 0\n",
            "Zero\n"
          ]
        }
      ]
    },
    {
      "cell_type": "code",
      "source": [
        "# 8. Ask for a grade (0–100) and print:\n",
        "# \"A\" if 80 and above\n",
        "# \"B\" if 60–79\n",
        "# \"C\" if 40–59\n",
        "# \"F\" if below 40\n",
        "\n",
        "grade = int(input(\"What is your grade? \"))\n",
        "if grade >= 80:\n",
        "  print(\"A\")\n",
        "elif grade in range(60,80):\n",
        "  print(\"B\")\n",
        "elif grade in range(40,60):\n",
        "  print(\"C\")\n",
        "elif grade < 40:\n",
        "  print(\"F\")"
      ],
      "metadata": {
        "colab": {
          "base_uri": "https://localhost:8080/"
        },
        "id": "Zg3GYLY0RdnD",
        "outputId": "7aeeaef5-eb55-4a98-9e18-62beefc5d2ff"
      },
      "execution_count": null,
      "outputs": [
        {
          "output_type": "stream",
          "name": "stdout",
          "text": [
            "What is your grade? 50\n",
            "C\n"
          ]
        }
      ]
    },
    {
      "cell_type": "code",
      "source": [
        "# 9. Create a simple calculator:\n",
        "# Ask for two numbers and an operator (+, -, *, /)\n",
        "# Use if statements to compute the result\n",
        "\n",
        "import math\n",
        "\n",
        "#defined each math function which prompts user for values\n",
        "def add():\n",
        "  e = int(input(\"Enter the first number: \"))\n",
        "  f = int(input(\"Enter the second number: \"))\n",
        "  return e+f  #returns the sum of e and f\n",
        "\n",
        "def subtract():\n",
        "  e = int(input(\"Enter the first number: \"))\n",
        "  f = int(input(\"Enter the second number: \"))\n",
        "  return e-f\n",
        "\n",
        "def multiply():\n",
        "  e = int(input(\"Enter the first number: \"))\n",
        "  f = int(input(\"Enter the second number: \"))\n",
        "  return e*f\n",
        "\n",
        "def divide():\n",
        "  e = int(input(\"Enter the first number: \"))\n",
        "  f = int(input(\"Enter the second number: \"))\n",
        "  return e/f\n",
        "\n",
        "#output\n",
        "print(\"What operation did you want to do?\")\n",
        "print(\"1. Addition\")\n",
        "print(\"2. Subtraction\")\n",
        "print(\"3. Multiplication\")\n",
        "print(\"4. Division\")\n",
        "\n",
        "#prompt user for which operation they want to use\n",
        "operation_input = input(\"Enter operation number? \")\n",
        "\n",
        "\n",
        "if operation_input.isnumeric():     #checks if the string stored in operation_input contains only numeric values(0-9)\n",
        "  operation = int(operation_input)  #will only execute is the isnumeric() is True\n",
        "\n",
        "  if operation == 1:                #calling my function\n",
        "    print(add())\n",
        "\n",
        "  elif operation == 2:\n",
        "    print(subtract())\n",
        "\n",
        "  elif operation == 3:\n",
        "    print(multiply())\n",
        "\n",
        "  elif operation == 4:\n",
        "    print(divide())\n",
        "\n",
        "  else:\n",
        "    print(\"No such operation in calculator\")\n",
        "\n",
        "else:\n",
        "  print(\"Invalid input. Please enter a number.\")  #if operation entered is not numeric(0-9), then its false\n"
      ],
      "metadata": {
        "id": "UoHPnEMpTEU1",
        "colab": {
          "base_uri": "https://localhost:8080/"
        },
        "outputId": "3e851436-4bbd-42b7-dc23-77df8d7fb1a9"
      },
      "execution_count": null,
      "outputs": [
        {
          "output_type": "stream",
          "name": "stdout",
          "text": [
            "What operation did you want to do?\n",
            "1. Addition\n",
            "2. Subtraction\n",
            "3. Multiplication\n",
            "4. Division\n",
            "Enter operation number? 4\n",
            "Enter the first number: 70\n",
            "Enter the second number: 7\n",
            "10.0\n"
          ]
        }
      ]
    },
    {
      "cell_type": "code",
      "source": [
        " #10. Ask the user for their age. If they are between 13 and 19 (inclusive), print \"Teenager\".\n",
        "\n",
        "age2 = int(input(\"What is your age? \"))\n",
        "if age2 in range(13,20):\n",
        "  print(\"Teenager\")\n",
        "else:\n",
        "  print(\"Not a teenager\")\n"
      ],
      "metadata": {
        "colab": {
          "base_uri": "https://localhost:8080/"
        },
        "id": "-g_5We7OTEFL",
        "outputId": "f3c4a973-c07e-4602-806d-44964d0a596c"
      },
      "execution_count": null,
      "outputs": [
        {
          "output_type": "stream",
          "name": "stdout",
          "text": [
            "What is your age? 19\n",
            "Teenager\n"
          ]
        }
      ]
    },
    {
      "cell_type": "code",
      "source": [
        "#11. Check if a year is a leap year:\n",
        "# leap years are those that are divisible by 4 e.g. 2020\n",
        "# leap years are not divisible by 100 except for those that are also divisible by 400\n",
        "\n",
        "leap_year = int(input(\"Enter year: \"))\n",
        "if (leap_year %4 == 0 and leap_year %100 != 0) or (leap_year %400 == 0):\n",
        "  print(\"This is a leap year\")\n",
        "else:\n",
        "  print(\"Not a leap year\")"
      ],
      "metadata": {
        "colab": {
          "base_uri": "https://localhost:8080/"
        },
        "id": "HR-S4HOJULzD",
        "outputId": "19c689b0-0ae0-478f-98ec-a8230abac5ef"
      },
      "execution_count": null,
      "outputs": [
        {
          "output_type": "stream",
          "name": "stdout",
          "text": [
            "Enter year: 2022\n",
            "Not a leap year\n"
          ]
        }
      ]
    },
    {
      "cell_type": "code",
      "source": [
        "#12. Ask for a password and username. Allow login only if both match the correct values.\n",
        "\n",
        "correct_username = \"admin\"\n",
        "correct_password = \"wifi1234\"\n",
        "user_name = input(\"Enter username: \")\n",
        "pass_word = input(\"Enter password: \")\n",
        "\n",
        "if user_name == correct_username and pass_word == correct_password:\n",
        "  print(\"Login successful\")\n",
        "else:\n",
        "  print(\"Wrong username or password\")"
      ],
      "metadata": {
        "colab": {
          "base_uri": "https://localhost:8080/"
        },
        "id": "Yf2bzU1UULrA",
        "outputId": "548d8d2d-6fc7-47b4-f31c-dde64074ecec"
      },
      "execution_count": null,
      "outputs": [
        {
          "output_type": "stream",
          "name": "stdout",
          "text": [
            "Enter username: admin\n",
            "Enter password: wifi12\n",
            "Wrong username or password\n"
          ]
        }
      ]
    },
    {
      "cell_type": "code",
      "source": [
        "# 13.Ask for a username. If it is \"admin\", then ask for a password. If both are correct, print \"Welcome, admin!\"\n",
        "\n",
        "username_1 = input(\"Enter username: \")\n",
        "if username_1 == \"admin\":\n",
        "  password_1 = input(\"Enter password: \")\n",
        "  if password_1 == \"12340\":\n",
        "    print(\"Welcome, admin!\")\n",
        "  else:\n",
        "    print(\"Wrong password\")\n",
        "else:\n",
        "  print(\"Invalid username\")\n"
      ],
      "metadata": {
        "colab": {
          "base_uri": "https://localhost:8080/"
        },
        "id": "1kAELXfEXTO0",
        "outputId": "398532da-de3c-4907-801a-2c9b2bf95acb"
      },
      "execution_count": null,
      "outputs": [
        {
          "output_type": "stream",
          "name": "stdout",
          "text": [
            "Enter username: admin\n",
            "Enter password: 12340\n",
            "Welcome, admin!\n"
          ]
        }
      ]
    },
    {
      "cell_type": "code",
      "source": [
        "# 14. Ask a user to enter two numbers. If both numbers are even, print \"Both are even\"; if one is even, print \"One is even\"; otherwise print \"None are even\".\n",
        "\n",
        "num_a = int(input(\"Enter first number: \"))\n",
        "num_b = int(input(\"Enter second number: \"))\n",
        "if (num_a %2 == 0) and (num_b %2 == 0):\n",
        "  print(\"Both are even\")\n",
        "if (num_a %2 == 0) or (num_b %2 == 0):\n",
        "  print(\"One is even\")\n",
        "else:\n",
        "  print(\"None are even\")"
      ],
      "metadata": {
        "colab": {
          "base_uri": "https://localhost:8080/"
        },
        "id": "I_8eJI9DXTBB",
        "outputId": "5f08df6c-4e0c-420b-f503-77d87c56af6e"
      },
      "execution_count": null,
      "outputs": [
        {
          "output_type": "stream",
          "name": "stdout",
          "text": [
            "Enter first number: 4\n",
            "Enter second number: 9\n",
            "One is even\n"
          ]
        }
      ]
    },
    {
      "cell_type": "code",
      "source": [
        "# 15. Ask the user for marks in three subjects. If the average is above 50, print \"Passed\"; otherwise, print \"Failed\".\n",
        "subject1 = int(input(\"Enter your subject 1 marks : \"))\n",
        "subject2 = int(input(\"Enter your subject 2 marks : \"))\n",
        "subject3 = int(input(\"Enter your subject 3 marks : \"))\n",
        "\n",
        "total_marks = sum([subject1,subject2,subject3])\n",
        "average = total_marks/3\n",
        "print(\"Average: \",average)\n",
        "if average > 50:\n",
        "  print(\"Passed\")\n",
        "else:\n",
        "  print(\"Failed\")"
      ],
      "metadata": {
        "colab": {
          "base_uri": "https://localhost:8080/"
        },
        "id": "x2pZpw5CXS5N",
        "outputId": "4b7dbe7b-3e51-4f95-a8ff-342b771580c7"
      },
      "execution_count": null,
      "outputs": [
        {
          "output_type": "stream",
          "name": "stdout",
          "text": [
            "Enter your subject 1 marks : 70\n",
            "Enter your subject 2 marks : 70\n",
            "Enter your subject 3 marks : 70\n",
            "Average:  70.0\n",
            "Passed\n"
          ]
        }
      ]
    },
    {
      "cell_type": "code",
      "source": [
        "# 16. Rock, Paper, Scissors Game (2 players)\n",
        "# Ask both players to enter their choice\n",
        "# Decide who wins based on rules(research the rules)\n",
        "\n",
        "# define the rules by creating dictionary defining what beats what\n",
        "rules = {\"rock\": \"scissors\",\n",
        "        \"scissors\": \"paper\",\n",
        "         \"paper\": \"rock\"}\n",
        "\n",
        "while True:\n",
        "  print(\"Let's play rock, paper, scissors!\")\n",
        "  player_1 = input(\"Player 1, enter rock, paper, or scissors: \").lower()\n",
        "  player_2 = input(\"Player 2, enter rock, paper, or scissors: \").lower()\n",
        "\n",
        "  # ensure rules are followed\n",
        "  if player_1 not in rules or player_2 not in rules:\n",
        "    print(\"Invalid input! Please enter rock, paper or scissors.\")\n",
        "    continue      # restart the loop\n",
        "\n",
        "  # checking for a tie in game\n",
        "  if player_1 == player_2:\n",
        "    print(\"It's a tie! Play again! \\n\")\n",
        "    continue\n",
        "\n",
        "  # determining the winner based on rules\n",
        "  if rules[player_1] == player_2:\n",
        "    print(\"Player 1 wins!\")\n",
        "  else:\n",
        "    print(\"Player 2 wins!\")\n",
        "  break   # exit the loop after a winner is found"
      ],
      "metadata": {
        "id": "aLWhUv8xgBK8",
        "colab": {
          "base_uri": "https://localhost:8080/"
        },
        "outputId": "0c502f5b-cb25-43db-c27a-7aac7df0a036"
      },
      "execution_count": null,
      "outputs": [
        {
          "output_type": "stream",
          "name": "stdout",
          "text": [
            "Let's play rock, paper, scissors!\n",
            "Player 1, enter rock, paper, or scissors: paper\n",
            "Player 2, enter rock, paper, or scissors: stone\n",
            "Invalid input! Please enter rock, paper or scissors.\n",
            "Let's play rock, paper, scissors!\n",
            "Player 1, enter rock, paper, or scissors: paper\n",
            "Player 2, enter rock, paper, or scissors: paper\n",
            "It's a tie! Play again! \n",
            "\n",
            "Let's play rock, paper, scissors!\n",
            "Player 1, enter rock, paper, or scissors: paper\n",
            "Player 2, enter rock, paper, or scissors: scissors\n",
            "Player 2 wins!\n"
          ]
        }
      ]
    },
    {
      "cell_type": "code",
      "source": [
        "# 17. Ask the user for a number and check if it's a prime number (Hint: A prime number has only two factors)\n",
        "\n",
        "def is_prime(num):\n",
        "    # prime numbers are greater than 1\n",
        "    if num <= 1:\n",
        "        return False\n",
        "\n",
        "    # check for factors from 2 up to the square root of num\n",
        "    for i in range(2, int(num**0.5) + 1):\n",
        "      # if num is divisible by any i, it's not prime\n",
        "        if num % i == 0:\n",
        "            return False\n",
        "\n",
        "    # if no divisors found, num is prime\n",
        "    return True\n",
        "\n",
        "number = int(input(\"Enter a number: \"))\n",
        "if is_prime(number):\n",
        "    print(f\"{number} is a prime number.\")\n",
        "else:\n",
        "    print(f\"{number} is not a prime number.\")\n"
      ],
      "metadata": {
        "id": "s1MxQ2PWgBIB",
        "colab": {
          "base_uri": "https://localhost:8080/"
        },
        "outputId": "62605c35-78e1-4248-b6df-1d8b7cee7e10"
      },
      "execution_count": null,
      "outputs": [
        {
          "output_type": "stream",
          "name": "stdout",
          "text": [
            "Enter a number: 12\n",
            "12 is not a prime number.\n"
          ]
        }
      ]
    },
    {
      "cell_type": "code",
      "source": [
        "# 18. Ask the user to enter a number and check if it’s a perfect square.\n",
        "\n",
        "import math\n",
        "\n",
        "def is_perfect_square(num):\n",
        "    if num < 0:\n",
        "        return False\n",
        "\n",
        "    # Calculate the square root\n",
        "    square_root = math.isqrt(num)\n",
        "\n",
        "    # Check if the square root is equal to its integer value\n",
        "    return square_root * square_root == num\n",
        "\n",
        "# Take input from the user\n",
        "try:\n",
        "    number = int(input(\"Enter a number: \"))\n",
        "    if is_perfect_square(number):\n",
        "        print(f\"{number} is a perfect square.\")\n",
        "    else:\n",
        "        print(f\"{number} is not a perfect square.\")\n",
        "except ValueError:\n",
        "    print(\"Invalid input. Please enter a valid integer.\")"
      ],
      "metadata": {
        "id": "PP01LNmOgBFK",
        "colab": {
          "base_uri": "https://localhost:8080/"
        },
        "outputId": "3702d977-b97f-40e5-8e8d-e31e91be2b05"
      },
      "execution_count": null,
      "outputs": [
        {
          "output_type": "stream",
          "name": "stdout",
          "text": [
            "Enter a number: 32\n",
            "32 is not a perfect square.\n"
          ]
        }
      ]
    }
  ]
}