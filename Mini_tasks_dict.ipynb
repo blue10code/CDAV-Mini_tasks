{
  "nbformat": 4,
  "nbformat_minor": 0,
  "metadata": {
    "colab": {
      "provenance": []
    },
    "kernelspec": {
      "name": "python3",
      "display_name": "Python 3"
    },
    "language_info": {
      "name": "python"
    }
  },
  "cells": [
    {
      "cell_type": "code",
      "source": [
        "# 1. Create a dictionary called student with:\n",
        "# Keys: \"name\", \"age\", \"grade\"\n",
        "# Values: \"Alice\", 14, \"B\"\n",
        "\n",
        "student = {\"name\":\"Alice\", \"age\":14, \"grade\":\"B\"}\n",
        "print(student)"
      ],
      "metadata": {
        "colab": {
          "base_uri": "https://localhost:8080/"
        },
        "id": "JcrRhAdHh3NS",
        "outputId": "33785300-a340-4d41-b467-622e03510d8c"
      },
      "execution_count": null,
      "outputs": [
        {
          "output_type": "stream",
          "name": "stdout",
          "text": [
            "{'name': 'Alice', 'age': 14, 'grade': 'B'}\n"
          ]
        }
      ]
    },
    {
      "cell_type": "code",
      "source": [
        "# 1.1. Access and print the student's name from the dictionary.\n",
        "student[\"name\"]"
      ],
      "metadata": {
        "colab": {
          "base_uri": "https://localhost:8080/",
          "height": 35
        },
        "id": "t6T1TUjXh3Kb",
        "outputId": "ee1abd1a-bed9-4f78-f6ed-253c30ce5037"
      },
      "execution_count": null,
      "outputs": [
        {
          "output_type": "execute_result",
          "data": {
            "text/plain": [
              "'Alice'"
            ],
            "application/vnd.google.colaboratory.intrinsic+json": {
              "type": "string"
            }
          },
          "metadata": {},
          "execution_count": 2
        }
      ]
    },
    {
      "cell_type": "code",
      "source": [
        "# 1.2. Change the student's grade to \"A\".\n",
        "student[\"grade\"] = \"A\"\n",
        "student"
      ],
      "metadata": {
        "colab": {
          "base_uri": "https://localhost:8080/"
        },
        "id": "zgBkf3jFh3H6",
        "outputId": "13af61d0-a5e7-48fb-816b-bfa1283c2892"
      },
      "execution_count": null,
      "outputs": [
        {
          "output_type": "execute_result",
          "data": {
            "text/plain": [
              "{'name': 'Alice', 'age': 14, 'grade': 'A'}"
            ]
          },
          "metadata": {},
          "execution_count": 3
        }
      ]
    },
    {
      "cell_type": "code",
      "source": [
        "# 1.3. Add a new key called \"school\" with the value \"Greenwood High\".\n",
        "\n",
        "###append\n",
        "student[\"school\"] = \"Greenwood High\"\n",
        "student"
      ],
      "metadata": {
        "colab": {
          "base_uri": "https://localhost:8080/"
        },
        "id": "kfaSNPTAh3Aj",
        "outputId": "ef99a0d5-04c2-46fa-85c0-9c752509cf53"
      },
      "execution_count": null,
      "outputs": [
        {
          "output_type": "execute_result",
          "data": {
            "text/plain": [
              "{'name': 'Alice', 'age': 14, 'grade': 'A', 'school': 'Greenwood High'}"
            ]
          },
          "metadata": {},
          "execution_count": 4
        }
      ]
    },
    {
      "cell_type": "code",
      "source": [
        "# 1.4. Delete the \"age\" key from the dictionary.\n",
        "\n",
        "###.pop\n",
        "student.pop(\"age\")"
      ],
      "metadata": {
        "colab": {
          "base_uri": "https://localhost:8080/"
        },
        "id": "qhDYM_dLiPi1",
        "outputId": "aa4e75a8-1213-4468-dba0-2678952085aa"
      },
      "execution_count": null,
      "outputs": [
        {
          "output_type": "execute_result",
          "data": {
            "text/plain": [
              "14"
            ]
          },
          "metadata": {},
          "execution_count": 5
        }
      ]
    },
    {
      "cell_type": "code",
      "source": [
        "student"
      ],
      "metadata": {
        "colab": {
          "base_uri": "https://localhost:8080/"
        },
        "id": "dVamLdo9myDU",
        "outputId": "6998ff19-8377-477c-ab22-e72ab27bfdfb"
      },
      "execution_count": null,
      "outputs": [
        {
          "output_type": "execute_result",
          "data": {
            "text/plain": [
              "{'name': 'Alice', 'grade': 'A', 'school': 'Greenwood High'}"
            ]
          },
          "metadata": {},
          "execution_count": 6
        }
      ]
    },
    {
      "cell_type": "code",
      "source": [
        "# 2. Loop through the following dictionary and print each key and value:\n",
        "\n",
        "person = {\"name\": \"Bob\", \"age\": 30, \"city\": \"Nairobi\"}\n",
        "\n",
        "for key,value in person.items():\n",
        "    print(key,value)"
      ],
      "metadata": {
        "colab": {
          "base_uri": "https://localhost:8080/"
        },
        "id": "x8D74nzriPfd",
        "outputId": "ca6c7ab3-92cc-4b6a-a98a-732cb4018aba"
      },
      "execution_count": null,
      "outputs": [
        {
          "output_type": "stream",
          "name": "stdout",
          "text": [
            "name Bob\n",
            "age 30\n",
            "city Nairobi\n"
          ]
        }
      ]
    },
    {
      "cell_type": "code",
      "source": [
        "# 2.1. Loop through and print only the keys from the dictionary above.\n",
        "for key in person.keys():\n",
        "    print(key)"
      ],
      "metadata": {
        "colab": {
          "base_uri": "https://localhost:8080/"
        },
        "id": "VeJfIRiuiPcn",
        "outputId": "0ae2e771-db93-48e3-b6a5-7292cbc583d5"
      },
      "execution_count": null,
      "outputs": [
        {
          "output_type": "stream",
          "name": "stdout",
          "text": [
            "name\n",
            "age\n",
            "city\n"
          ]
        }
      ]
    },
    {
      "cell_type": "code",
      "source": [
        "# 2.2. Loop through and print only the values.\n",
        "for value in person.values():\n",
        "    print(value)"
      ],
      "metadata": {
        "colab": {
          "base_uri": "https://localhost:8080/"
        },
        "id": "yQNnLvw6iezU",
        "outputId": "416a08a0-8c1b-4557-b2a7-4f9b0843046a"
      },
      "execution_count": null,
      "outputs": [
        {
          "output_type": "stream",
          "name": "stdout",
          "text": [
            "Bob\n",
            "30\n",
            "Nairobi\n"
          ]
        }
      ]
    },
    {
      "cell_type": "code",
      "source": [
        "# 2.3. Use .get() to retrieve the value of a key called \"email\" from person. If it doesn’t exist, return \"Not provided\".\n",
        "\n",
        "email = person.get(\"email\",\"Not Provided\")\n",
        "email"
      ],
      "metadata": {
        "colab": {
          "base_uri": "https://localhost:8080/",
          "height": 35
        },
        "id": "TzvHuIjNiews",
        "outputId": "56c2a74d-9d05-4107-e21b-fa65091f867f"
      },
      "execution_count": null,
      "outputs": [
        {
          "output_type": "execute_result",
          "data": {
            "text/plain": [
              "'Not Provided'"
            ],
            "application/vnd.google.colaboratory.intrinsic+json": {
              "type": "string"
            }
          },
          "metadata": {},
          "execution_count": 21
        }
      ]
    },
    {
      "cell_type": "code",
      "source": [
        "# 2.4. Check if the key \"city\" exists in the dictionary.\n",
        "\n",
        "print(\"city\" in person.keys())"
      ],
      "metadata": {
        "colab": {
          "base_uri": "https://localhost:8080/"
        },
        "id": "X79e3GYnieuH",
        "outputId": "b4f7d3dc-649a-4284-d91c-925b369941ea"
      },
      "execution_count": null,
      "outputs": [
        {
          "output_type": "stream",
          "name": "stdout",
          "text": [
            "True\n"
          ]
        }
      ]
    },
    {
      "cell_type": "code",
      "source": [
        "#2.5. Use .update() to add or modify multiple values:\n",
        "# Update \"city\" to \"Mombasa\" and add \"email\": \"bob@example.com\"\n",
        "\n",
        "person.update({\"city\": \"Mombasa\", \"email\": \"bob@example.com\"})\n",
        "person"
      ],
      "metadata": {
        "colab": {
          "base_uri": "https://localhost:8080/"
        },
        "id": "aMUPemSzisjw",
        "outputId": "8aa0acc5-f61f-4763-aa22-2878012ba864"
      },
      "execution_count": null,
      "outputs": [
        {
          "output_type": "execute_result",
          "data": {
            "text/plain": [
              "{'name': 'Bob', 'age': 30, 'city': 'Mombasa', 'email': 'bob@example.com'}"
            ]
          },
          "metadata": {},
          "execution_count": 15
        }
      ]
    },
    {
      "cell_type": "code",
      "source": [
        "# 3. Create a list of 3 students, each represented as a dictionary:\n",
        "# Each dictionary should have keys: \"name\", \"age\", \"grade\"\n",
        "\n",
        "# List of students where each student is a dictionary\n",
        "students = [\n",
        "    {\"name\": \"John\", \"age\": 14, \"grade\": \"70\"},\n",
        "    {\"name\": \"Mary\", \"age\": 15, \"grade\": \"80\"},\n",
        "    {\"name\": \"Mercy\", \"age\": 17, \"grade\": \"85\"}\n",
        "]\n",
        "\n",
        "# Print the list to confirm\n",
        "print(students)\n",
        "\n"
      ],
      "metadata": {
        "id": "nkkMyfx9ishM",
        "colab": {
          "base_uri": "https://localhost:8080/"
        },
        "outputId": "b9fcbfe8-a33f-4269-ddd4-b764ecb8170d"
      },
      "execution_count": null,
      "outputs": [
        {
          "output_type": "stream",
          "name": "stdout",
          "text": [
            "[{'name': 'John', 'age': 14, 'grade': '70'}, {'name': 'Mary', 'age': 15, 'grade': '80'}, {'name': 'Mercy', 'age': 17, 'grade': '85'}]\n"
          ]
        }
      ]
    },
    {
      "cell_type": "code",
      "source": [
        "# 3.1. Loop through the list and print the name and grade of each student.\n",
        "\n",
        "for student in students:\n",
        "  print(\"Name:\", student[\"name\"], \", Grade:\", student[\"grade\"])"
      ],
      "metadata": {
        "id": "ljz-HPmijMZx",
        "colab": {
          "base_uri": "https://localhost:8080/"
        },
        "outputId": "e6695a97-69ed-449d-d5d2-9567531fc086"
      },
      "execution_count": null,
      "outputs": [
        {
          "output_type": "stream",
          "name": "stdout",
          "text": [
            "Name: John , Grade: 70\n",
            "Name: Mary , Grade: 80\n",
            "Name: Mercy , Grade: 85\n"
          ]
        }
      ]
    },
    {
      "cell_type": "code",
      "source": [
        "# 3.2. Write a loop to calculate the average grade (assuming grades are numbers).\n",
        "\n",
        "total_grade = 0\n",
        "for student in students:\n",
        "    total_grade = total_grade + int(student[\"grade\"]) # Convert grade to integer and add to total\n",
        "\n",
        "average_grade = total_grade / len(students)\n",
        "print(\"Average Grade:\", average_grade)"
      ],
      "metadata": {
        "id": "cIz6bCw7jMXK",
        "colab": {
          "base_uri": "https://localhost:8080/"
        },
        "outputId": "667881d5-9c84-496d-ced9-7930924462e9"
      },
      "execution_count": null,
      "outputs": [
        {
          "output_type": "stream",
          "name": "stdout",
          "text": [
            "Average Grade: 78.33333333333333\n"
          ]
        }
      ]
    },
    {
      "cell_type": "code",
      "source": [
        "#4. Create a dictionary to count how many times each word appears in this list:\n",
        "# Output should be:\n",
        "# {\"apple\": 3, \"banana\": 2, \"cherry\": 1}\n",
        "words = [\"apple\", \"banana\", \"apple\", \"cherry\", \"banana\", \"apple\"]\n",
        "\n",
        "word_count = {}   #empty dictionary to store word counts\n",
        "\n",
        "# Loop through each unique word using set() to avoid duplicates\n",
        "for word in set(words):\n",
        "  word_count[word] = words.count(word)    # Count how many times the word appears in the original list\n",
        "\n",
        "print(word_count)"
      ],
      "metadata": {
        "id": "-muRzAO0jaDu",
        "colab": {
          "base_uri": "https://localhost:8080/"
        },
        "outputId": "7416d3c3-25b3-4f0d-cb93-326bab2aadd1"
      },
      "execution_count": null,
      "outputs": [
        {
          "output_type": "stream",
          "name": "stdout",
          "text": [
            "{'banana': 2, 'cherry': 1, 'apple': 3}\n"
          ]
        }
      ]
    },
    {
      "cell_type": "code",
      "source": [
        "# 5. Build a simple phonebook:\n",
        "# Ask the user to enter names and phone numbers\n",
        "# Store them in a dictionary\n",
        "# Allow the user to look up numbers by name\n",
        "\n",
        "#function to add contacts\n",
        "def add_contact():\n",
        "  name = input(\"Name: \")        #prompt user\n",
        "  while True:                   #loops thru until condition met is true\n",
        "    phone = input(\"Phone: \")\n",
        "    if (len(phone) == 10 and phone.isdigit()):\n",
        "      break\n",
        "  with open(\"contactbook.txt\", \"a\") as file:       #append to file\n",
        "    file.write(name + \" , \" + phone + \"\\n\")     #write to file\n",
        "  print(\"New contact added.\\n\")\n",
        "\n",
        "\n",
        "#function to view all contacts\n",
        "def view_contacts():\n",
        "  try:\n",
        "    with open(\"contactbook.txt\", \"r\") as file:   #open file in read mode\n",
        "      contact_lines = file.read()        #reads all lines in file\n",
        "      print(contact_lines)\n",
        "  except FileNotFoundError:                   #to handle if file doesn't exist\n",
        "    print(\"File does not exist\")\n",
        "\n",
        "\n",
        "#function to search contact by name\n",
        "def search_contact():\n",
        "  name_search = input(\"Enter name to search: \")\n",
        "  name_found = False    #assume name isn't there until we find it\n",
        "\n",
        "  try:\n",
        "    with open(\"contactbook.txt\", \"r\") as file:\n",
        "      for line in file:           #loop through file\n",
        "        if name_search in line:   #search for name\n",
        "          print(\"Name found: \", line.lower())\n",
        "          name_found = True\n",
        "    if not name_found:\n",
        "      print(\"Contact not found.\\n\")\n",
        "  except FileNotFoundError:\n",
        "    print(\"No contacts found.\\n\")\n",
        "\n",
        "\n",
        "while True:\n",
        "  #show options for user to select\n",
        "  print(\"1. Add New Contact\")\n",
        "  print(\"2. View All Contacts\")\n",
        "  print(\"3. Search by Name\")\n",
        "  print(\"4. Exit\")\n",
        "\n",
        "  #ask user to pick an option 1-4\n",
        "  option = input(\"Choose an option(1-4): \")\n",
        "\n",
        "  #call function based on the user's option\n",
        "  if option == \"1\":\n",
        "    add_contact()\n",
        "  elif option == \"2\":\n",
        "    view_contacts()\n",
        "  elif option == \"3\":\n",
        "    search_contact()\n",
        "  elif option == \"4\":\n",
        "    print(\"Session completed\")\n",
        "    break\n",
        "  else:\n",
        "    (\"Invalid option.\\n\")"
      ],
      "metadata": {
        "id": "0pY4iTDsjaBM",
        "colab": {
          "base_uri": "https://localhost:8080/"
        },
        "outputId": "d75d20ab-1b3d-4b2e-daf7-4601b6d1350f"
      },
      "execution_count": null,
      "outputs": [
        {
          "output_type": "stream",
          "name": "stdout",
          "text": [
            "1. Add New Contact\n",
            "2. View All Contacts\n",
            "3. Search by Name\n",
            "4. Exit\n",
            "Choose an option(1-4): 2\n",
            "Mary , 0712345678, \n",
            "John , 0798765432, \n",
            "\n",
            "1. Add New Contact\n",
            "2. View All Contacts\n",
            "3. Search by Name\n",
            "4. Exit\n",
            "Choose an option(1-4): 3\n",
            "Enter name to search: mary\n",
            "Contact not found.\n",
            "\n",
            "1. Add New Contact\n",
            "2. View All Contacts\n",
            "3. Search by Name\n",
            "4. Exit\n",
            "Choose an option(1-4): Mary\n",
            "1. Add New Contact\n",
            "2. View All Contacts\n",
            "3. Search by Name\n",
            "4. Exit\n",
            "Choose an option(1-4): 3\n",
            "Enter name to search: mary\n",
            "Contact not found.\n",
            "\n",
            "1. Add New Contact\n",
            "2. View All Contacts\n",
            "3. Search by Name\n",
            "4. Exit\n",
            "Choose an option(1-4): 3\n",
            "Enter name to search: Mary\n",
            "Name found:  mary , 0712345678, \n",
            "\n",
            "1. Add New Contact\n",
            "2. View All Contacts\n",
            "3. Search by Name\n",
            "4. Exit\n",
            "Choose an option(1-4): 4\n",
            "Session completed\n"
          ]
        }
      ]
    }
  ]
}