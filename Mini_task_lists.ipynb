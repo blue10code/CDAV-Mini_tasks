{
  "nbformat": 4,
  "nbformat_minor": 0,
  "metadata": {
    "colab": {
      "provenance": []
    },
    "kernelspec": {
      "name": "python3",
      "display_name": "Python 3"
    },
    "language_info": {
      "name": "python"
    }
  },
  "cells": [
    {
      "cell_type": "code",
      "execution_count": null,
      "metadata": {
        "id": "-4PoCDikzNM0"
      },
      "outputs": [],
      "source": [
        "# 1. Create a list of your 8 foods and store it in a variable called foods.\n",
        "# pizza cake banana kales pizza chicken beef\n",
        "\n",
        "foods = [\"pizza\",\"cake\",\"banana\",\"kales\",\"pizza\",\"chicken\",\"beef\"]"
      ]
    },
    {
      "cell_type": "code",
      "source": [
        "# 1.1. Print the first and last item in the foods list.\n",
        "\n",
        "foods[0]"
      ],
      "metadata": {
        "colab": {
          "base_uri": "https://localhost:8080/",
          "height": 35
        },
        "id": "yNMspVJYHyYA",
        "outputId": "9402aa91-fed6-4aa6-b312-0b0ce35d052f"
      },
      "execution_count": null,
      "outputs": [
        {
          "output_type": "execute_result",
          "data": {
            "text/plain": [
              "'pizza'"
            ],
            "application/vnd.google.colaboratory.intrinsic+json": {
              "type": "string"
            }
          },
          "metadata": {},
          "execution_count": 24
        }
      ]
    },
    {
      "cell_type": "code",
      "source": [
        "foods[6]"
      ],
      "metadata": {
        "colab": {
          "base_uri": "https://localhost:8080/",
          "height": 35
        },
        "id": "RayZjuGBKwWR",
        "outputId": "a06ed3de-0b9f-4469-fc62-9d72ce5bbf7c"
      },
      "execution_count": null,
      "outputs": [
        {
          "output_type": "execute_result",
          "data": {
            "text/plain": [
              "'beef'"
            ],
            "application/vnd.google.colaboratory.intrinsic+json": {
              "type": "string"
            }
          },
          "metadata": {},
          "execution_count": 25
        }
      ]
    },
    {
      "cell_type": "code",
      "source": [
        "# 1.2. Replace the third item in the list with another food.\n",
        "\n",
        "foods[3] = \"burger\""
      ],
      "metadata": {
        "id": "PJXtICF0HyUD"
      },
      "execution_count": null,
      "outputs": []
    },
    {
      "cell_type": "code",
      "source": [
        "foods"
      ],
      "metadata": {
        "id": "4ao1BBsMJ8KM",
        "outputId": "ddd25622-527d-40c9-d844-302a93a4b244",
        "colab": {
          "base_uri": "https://localhost:8080/"
        }
      },
      "execution_count": null,
      "outputs": [
        {
          "output_type": "execute_result",
          "data": {
            "text/plain": [
              "['pizza', 'cake', 'banana', 'burger', 'pizza', 'chicken', 'beef']"
            ]
          },
          "metadata": {},
          "execution_count": 27
        }
      ]
    },
    {
      "cell_type": "code",
      "source": [
        "# 1.3. Add a new food to the end of the list using .append().\n",
        "\n",
        "foods.append(\"sandwich\")"
      ],
      "metadata": {
        "id": "hzkKC20rHyQ-"
      },
      "execution_count": null,
      "outputs": []
    },
    {
      "cell_type": "code",
      "source": [
        "foods"
      ],
      "metadata": {
        "colab": {
          "base_uri": "https://localhost:8080/"
        },
        "id": "2xGOT98o5tCa",
        "outputId": "13ff8594-c0a8-4402-80ca-7cb898831177"
      },
      "execution_count": null,
      "outputs": [
        {
          "output_type": "execute_result",
          "data": {
            "text/plain": [
              "['pizza', 'cake', 'banana', 'burger', 'pizza', 'chicken', 'beef', 'sandwich']"
            ]
          },
          "metadata": {},
          "execution_count": 30
        }
      ]
    },
    {
      "cell_type": "code",
      "source": [
        "# 1.4. Remove one food from the list using .remove().\n",
        "\n",
        "foods.remove(\"cake\")"
      ],
      "metadata": {
        "id": "OtN8XkoNH9LX",
        "collapsed": true
      },
      "execution_count": null,
      "outputs": []
    },
    {
      "cell_type": "code",
      "source": [
        "foods"
      ],
      "metadata": {
        "colab": {
          "base_uri": "https://localhost:8080/"
        },
        "id": "zadS2HsT3Y9n",
        "outputId": "a3684d37-234f-41e9-ccc5-50543c4bae45"
      },
      "execution_count": null,
      "outputs": [
        {
          "output_type": "execute_result",
          "data": {
            "text/plain": [
              "['pizza', 'banana', 'burger', 'pizza', 'chicken', 'beef', 'sandwich']"
            ]
          },
          "metadata": {},
          "execution_count": 32
        }
      ]
    },
    {
      "cell_type": "code",
      "source": [
        "# 1.5. Use a for loop to print each item in the list on a new line.\n",
        "for food in foods:\n",
        "  print(food)"
      ],
      "metadata": {
        "id": "2Gl3OOZ4H9Ip",
        "colab": {
          "base_uri": "https://localhost:8080/"
        },
        "outputId": "9362965a-b9ba-475e-b037-01b911b03651"
      },
      "execution_count": null,
      "outputs": [
        {
          "output_type": "stream",
          "name": "stdout",
          "text": [
            "pizza\n",
            "banana\n",
            "burger\n",
            "pizza\n",
            "chicken\n",
            "beef\n",
            "sandwich\n"
          ]
        }
      ]
    },
    {
      "cell_type": "code",
      "source": [
        "# 1.6. Use a loop to print only the foods that start with the letter \"a\".\n",
        "\n",
        "foods = ['pizza', 'banana', 'burger', 'pizza', 'chicken', 'beef', 'sandwich']\n",
        "\n",
        "foods_starting_with_a = []    #create an empty list\n",
        "\n",
        "for food in foods:\n",
        "  if food.startswith(\"a\"):\n",
        "    foods_starting_with_a.append(food)    #append to empty list\n",
        "    print(foods_starting_with_a)\n",
        "else:\n",
        "  print(\"No food starts with 'a'\")"
      ],
      "metadata": {
        "id": "B2Kvx340IEKj",
        "colab": {
          "base_uri": "https://localhost:8080/"
        },
        "outputId": "9f583859-bc61-4ae8-cb8a-ece29d9b9b7e"
      },
      "execution_count": null,
      "outputs": [
        {
          "output_type": "stream",
          "name": "stdout",
          "text": [
            "No food starts with 'a'\n"
          ]
        }
      ]
    },
    {
      "cell_type": "code",
      "source": [
        "# 1.7. Count how many times \"pizza\" appears in the list.\n",
        "\n",
        "pizza_count = foods.count(\"pizza\")\n",
        "pizza_count"
      ],
      "metadata": {
        "id": "Ig2QRb-XIEH6",
        "colab": {
          "base_uri": "https://localhost:8080/"
        },
        "outputId": "dfa939b5-3c29-431e-8fce-898dc315b158"
      },
      "execution_count": null,
      "outputs": [
        {
          "output_type": "execute_result",
          "data": {
            "text/plain": [
              "2"
            ]
          },
          "metadata": {},
          "execution_count": 34
        }
      ]
    },
    {
      "cell_type": "code",
      "source": [
        "# 1.8. Print the second to fourth items using slicing.\n",
        "# Remember that slicing is getting a range of values using the square brackets and index\n",
        "\n",
        "foods[2:5]"
      ],
      "metadata": {
        "id": "nNSEtoT_IEES",
        "colab": {
          "base_uri": "https://localhost:8080/"
        },
        "outputId": "8b911e4e-865d-42ba-c159-61636cdd051a"
      },
      "execution_count": null,
      "outputs": [
        {
          "output_type": "execute_result",
          "data": {
            "text/plain": [
              "['banana', 'pizza', 'chicken']"
            ]
          },
          "metadata": {},
          "execution_count": 12
        }
      ]
    },
    {
      "cell_type": "code",
      "source": [
        "# 1.9. Print the list in reverse using slicing.\n",
        "foods[::-1]"
      ],
      "metadata": {
        "id": "3PJhwddgIMMi",
        "colab": {
          "base_uri": "https://localhost:8080/"
        },
        "outputId": "c6331b13-305e-458f-ff49-39a885884b49"
      },
      "execution_count": null,
      "outputs": [
        {
          "output_type": "execute_result",
          "data": {
            "text/plain": [
              "['sandwich', 'beef', 'chicken', 'pizza', 'banana', 'cake', 'pizza']"
            ]
          },
          "metadata": {},
          "execution_count": 16
        }
      ]
    },
    {
      "cell_type": "code",
      "source": [
        "# 2. Create a list of numbers: 5 2 9 1 7\n",
        "\n",
        "numbers = [5,2,9,1,7]\n",
        "numbers"
      ],
      "metadata": {
        "id": "qItS4p7cIMJr",
        "colab": {
          "base_uri": "https://localhost:8080/"
        },
        "outputId": "7b31245b-4be0-4bc3-f716-6484dbccced7"
      },
      "execution_count": null,
      "outputs": [
        {
          "output_type": "execute_result",
          "data": {
            "text/plain": [
              "[5, 2, 9, 1, 7]"
            ]
          },
          "metadata": {},
          "execution_count": 13
        }
      ]
    },
    {
      "cell_type": "code",
      "source": [
        "# 2.1 Use the following functions:\n",
        "# sum() to calculate total\n",
        "# max() to find the highest\n",
        "# min() to find the smallest\n",
        "print(\"Sum: \",(sum(numbers)))\n",
        "print(\"Max: \",(max(numbers)))\n",
        "print(\"Min: \",(min(numbers)))"
      ],
      "metadata": {
        "id": "ayPBcJWnITYN",
        "colab": {
          "base_uri": "https://localhost:8080/"
        },
        "outputId": "82bd1ec4-29a5-40d8-cd9c-29dc820b9cfb"
      },
      "execution_count": null,
      "outputs": [
        {
          "output_type": "stream",
          "name": "stdout",
          "text": [
            "Sum:  24\n",
            "Max:  9\n",
            "Min:  1\n"
          ]
        }
      ]
    },
    {
      "cell_type": "code",
      "source": [
        "# 2.2. Sort the list in ascending and descending order using .sort() and .reverse().\n",
        "\n",
        "numbers.sort()\n",
        "print(numbers)\n",
        "\n",
        "numbers.reverse()\n",
        "print(numbers)"
      ],
      "metadata": {
        "id": "TTRFQt5aIWae",
        "colab": {
          "base_uri": "https://localhost:8080/"
        },
        "outputId": "3122734b-a745-4985-e98f-f6a19834a52c"
      },
      "execution_count": null,
      "outputs": [
        {
          "output_type": "stream",
          "name": "stdout",
          "text": [
            "[1, 2, 5, 7, 9]\n",
            "[9, 7, 5, 2, 1]\n"
          ]
        }
      ]
    },
    {
      "cell_type": "code",
      "source": [
        "# 2.3. Use .insert() to add the number 10 at index 2.\n",
        "\n",
        "numbers.insert(2,10)\n",
        "numbers"
      ],
      "metadata": {
        "id": "USEE8HkLIjPT",
        "colab": {
          "base_uri": "https://localhost:8080/"
        },
        "outputId": "5e7fb2ad-ee6e-4204-f714-c546bf224848"
      },
      "execution_count": null,
      "outputs": [
        {
          "output_type": "execute_result",
          "data": {
            "text/plain": [
              "[9, 7, 10, 5, 2, 1]"
            ]
          },
          "metadata": {},
          "execution_count": 16
        }
      ]
    },
    {
      "cell_type": "code",
      "source": [
        "# 3. Create the nested list of students below and their scores:\n",
        "# then print each student's name and score using a loop.\n",
        "students = [[\"Alice\", 85], [\"Bob\", 78], [\"Charlie\", 92]]\n",
        "\n",
        "for student in students:\n",
        "  name = student[0]\n",
        "  score = student[1]\n",
        "  print(f\"{name} scored {score}\")"
      ],
      "metadata": {
        "id": "5ebYRdIoIjMs",
        "colab": {
          "base_uri": "https://localhost:8080/"
        },
        "outputId": "f65b276f-468a-4dac-b79f-6520dee706ae"
      },
      "execution_count": null,
      "outputs": [
        {
          "output_type": "stream",
          "name": "stdout",
          "text": [
            "Alice scored 85\n",
            "Bob scored 78\n",
            "Charlie scored 92\n"
          ]
        }
      ]
    },
    {
      "cell_type": "code",
      "source": [
        "# 3.1. Find the student with the highest score.\n",
        "highest_score = 0\n",
        "\n",
        "for student in students:\n",
        "  if student[1] > highest_score:\n",
        "    highest_score = student[1]\n",
        "print(highest_score)"
      ],
      "metadata": {
        "id": "vVBi_uWQIjJ9",
        "colab": {
          "base_uri": "https://localhost:8080/"
        },
        "outputId": "ef3ccc7f-b32f-48a8-8bef-ad915728f212"
      },
      "execution_count": null,
      "outputs": [
        {
          "output_type": "stream",
          "name": "stdout",
          "text": [
            "92\n"
          ]
        }
      ]
    },
    {
      "cell_type": "code",
      "source": [
        "# 4. Write a function that asks the user to enter 5 numbers and stores them in a list.\n",
        "\n",
        "num_list = []\n",
        "counter = 5\n",
        "\n",
        "while counter > 0:\n",
        "  number = int(input(\"Enter number: \"))\n",
        "  num_list.append(number)\n",
        "  counter = counter - 1\n",
        "\n",
        "print(num_list)"
      ],
      "metadata": {
        "id": "ADcIV1sVIp-x",
        "colab": {
          "base_uri": "https://localhost:8080/"
        },
        "outputId": "7ff7cb2e-2a81-4830-bc7f-a2fa576cbedc"
      },
      "execution_count": null,
      "outputs": [
        {
          "output_type": "stream",
          "name": "stdout",
          "text": [
            "Enter number: 4\n",
            "Enter number: 3\n",
            "Enter number: 7\n",
            "Enter number: 2\n",
            "Enter number: 9\n",
            "[4, 3, 7, 2, 9]\n"
          ]
        }
      ]
    },
    {
      "cell_type": "code",
      "source": [
        "# 4.1. Write a function that removes all even numbers from the list provided by the user.\n",
        "\n",
        "def remove_evens():\n",
        "  list_num = [1,2,3,4,5,6,7,8,9,10,11,12,13,14,15]\n",
        "  result = []\n",
        "\n",
        "  for num in list_num:\n",
        "    if num %2 != 0:    #keeps odd numbers only\n",
        "      result.append(num)\n",
        "  print(result)\n",
        "\n",
        "remove_evens()"
      ],
      "metadata": {
        "id": "ZU3g3q04Ip8E",
        "colab": {
          "base_uri": "https://localhost:8080/"
        },
        "outputId": "b5a73c2a-4fe5-4ace-f34a-b2dccc49c71c"
      },
      "execution_count": null,
      "outputs": [
        {
          "output_type": "stream",
          "name": "stdout",
          "text": [
            "[1, 3, 5, 7, 9, 11, 13, 15]\n"
          ]
        }
      ]
    },
    {
      "cell_type": "code",
      "source": [
        "# 5. Merge two lists:\n",
        "list1 = [1, 2, 3]\n",
        "list2 = [4, 5, 6]\n",
        "\n",
        "merged_list = list1 + list2\n",
        "merged_list"
      ],
      "metadata": {
        "id": "Afp4Ns_JIyPa",
        "colab": {
          "base_uri": "https://localhost:8080/"
        },
        "outputId": "124adda2-fe80-420d-deba-3542ba524a74"
      },
      "execution_count": null,
      "outputs": [
        {
          "output_type": "execute_result",
          "data": {
            "text/plain": [
              "[1, 2, 3, 4, 5, 6]"
            ]
          },
          "metadata": {},
          "execution_count": 8
        }
      ]
    },
    {
      "cell_type": "code",
      "source": [
        "# 6. Ask the user to input student names until they type \"stop\". Store all names in a list and print it at the end.\n",
        "\n",
        "student_names = []\n",
        "\n",
        "while True:\n",
        "  name = input(\"Enter the student name or type STOP: \")\n",
        "  if name == \"stop\":\n",
        "    break\n",
        "  student_names.append(name)\n",
        "print(student_names)"
      ],
      "metadata": {
        "id": "0IxQLnpEIyNm",
        "colab": {
          "base_uri": "https://localhost:8080/"
        },
        "outputId": "e5c8e2b7-f6ce-4f6b-f891-1afe5a590b17"
      },
      "execution_count": null,
      "outputs": [
        {
          "output_type": "stream",
          "name": "stdout",
          "text": [
            "Enter the student name or type STOP: Alice\n",
            "Enter the student name or type STOP: Matthew\n",
            "Enter the student name or type STOP: Mary\n",
            "Enter the student name or type STOP: Angela\n",
            "Enter the student name or type STOP: stop\n",
            "['Alice', 'Matthew', 'Mary', 'Angela']\n"
          ]
        }
      ]
    },
    {
      "cell_type": "code",
      "source": [
        "# 6.1. From the list of names, print only those that are longer than 5 characters.\n",
        "\n",
        "for name in student_names:\n",
        "  if len(name) > 5:\n",
        "    print(name)"
      ],
      "metadata": {
        "id": "dG91XhV3IyLC",
        "colab": {
          "base_uri": "https://localhost:8080/"
        },
        "outputId": "a4bed051-2e08-4302-8445-6c8773d2f042"
      },
      "execution_count": null,
      "outputs": [
        {
          "output_type": "stream",
          "name": "stdout",
          "text": [
            "Matthew\n",
            "Angela\n"
          ]
        }
      ]
    }
  ]
}